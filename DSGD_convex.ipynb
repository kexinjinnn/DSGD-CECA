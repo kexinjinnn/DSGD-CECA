{
 "cells": [
  {
   "attachments": {},
   "cell_type": "markdown",
   "metadata": {},
   "source": [
    "This code is partially adapted from https://arxiv.org/abs/2210.07881"
   ]
  },
  {
   "cell_type": "code",
   "execution_count": 1,
   "metadata": {
    "ExecuteTime": {
     "end_time": "2023-03-17T03:39:33.138434Z",
     "start_time": "2023-03-17T03:39:31.119625Z"
    }
   },
   "outputs": [],
   "source": [
    "import numpy as np\n",
    "import matplotlib.pyplot as plt\n",
    "import math\n",
    "\n",
    "from topology_util import *\n",
    "from EquiTopo import *\n",
    "\n",
    "np.random.seed(123)"
   ]
  },
  {
   "cell_type": "code",
   "execution_count": 3,
   "metadata": {
    "ExecuteTime": {
     "end_time": "2023-03-17T03:41:26.968116Z",
     "start_time": "2023-03-17T03:41:26.965384Z"
    }
   },
   "outputs": [],
   "source": [
    "from tqdm.notebook import tqdm"
   ]
  },
  {
   "cell_type": "code",
   "execution_count": 4,
   "metadata": {
    "ExecuteTime": {
     "end_time": "2023-03-17T03:48:09.460715Z",
     "start_time": "2023-03-17T03:48:09.446544Z"
    }
   },
   "outputs": [],
   "source": [
    "# CECA-2P\n",
    "def OptTopos(n):\n",
    "    tau = int(math.ceil(math.log(n, 2.0))) \n",
    "    print(f\"tau={tau}\")\n",
    "    bi = bin(n - 1)\n",
    "    n_ex = 0\n",
    "    Ws = np.zeros((tau, 2 * n, 2 * n))\n",
    "    Wgs = np.zeros((tau, 2 * n, 2 * n))\n",
    "    for k in range(tau):\n",
    "        d = int(bi[2 + k])\n",
    "        P = np.zeros((n, n))\n",
    "        if d == 1:\n",
    "            for j in range(n):\n",
    "                i = (j + n_ex + 1) % n\n",
    "                P[i, j] = 1\n",
    "            \n",
    "            Ws[k, :n, :n] = 0.5 * np.eye(n) + 0.5 * P\n",
    "            Ws[k, :n, n:] = 0\n",
    "            Ws[k, n:, :n] = (n_ex + 1) * P / (2 * n_ex + 1)\n",
    "            Ws[k, n:, n:] = n_ex * np.eye(n) / (2 * n_ex + 1)\n",
    "            Wgs[k, :n, :n] = 0.5 * np.eye(n) + 0.5 * P\n",
    "            Wgs[k, :n, n:] = 0\n",
    "            Wgs[k, n:, :n] = (n_ex + 1) * P / (2 * n_ex + 1) + n_ex * np.eye(n) / (2 * n_ex + 1)\n",
    "            Wgs[k, n:, n:] = 0\n",
    "        \n",
    "        if d == 0:\n",
    "            for j in range(n):\n",
    "                i = (j + n_ex) % n\n",
    "                P[i, j] = 1\n",
    "            \n",
    "            Ws[k, :n, :n] = (n_ex + 1) * np.eye(n) / (2 * n_ex + 1)\n",
    "            Ws[k, :n, n:] = n_ex * P / (2 * n_ex + 1)\n",
    "            Ws[k, n:, :n] = 0\n",
    "            Ws[k, n:, n:] = 0.5 * np.eye(n) + 0.5 * P\n",
    "            Wgs[k, :n, :n] = 0\n",
    "            Wgs[k, :n, n:] = (n_ex + 1) * np.eye(n) / (2 * n_ex + 1) + n_ex * P / (2 * n_ex + 1)\n",
    "            Wgs[k, n:, :n] = 0\n",
    "            Wgs[k, n:, n:] =  0.5 * np.eye(n) + 0.5 * P\n",
    "        n_ex = 2 * n_ex + d\n",
    "    return Ws, Wgs"
   ]
  },
  {
   "cell_type": "code",
   "execution_count": 5,
   "metadata": {
    "ExecuteTime": {
     "end_time": "2023-03-17T03:48:14.908960Z",
     "start_time": "2023-03-17T03:48:14.890342Z"
    }
   },
   "outputs": [],
   "source": [
    "# CECA-1P\n",
    "def OptToposOne(n):\n",
    "    tau = int(math.ceil(math.log(n, 2.0))) \n",
    "    print(f\"tau={tau}\")\n",
    "    bi = bin(n - 1)\n",
    "    n_ex = 0\n",
    "    Ws = np.zeros((tau, 2 * n, 2 * n))\n",
    "    Wgs = np.zeros((tau, 2 * n, 2 * n))\n",
    "    for k in range(tau):\n",
    "        d = int(bi[2 + k])\n",
    "        P = np.zeros((n, n))\n",
    "        if d == 1:\n",
    "            for j in range(n):\n",
    "                if j % 2 == 1:\n",
    "                    i = (j + 2 * n_ex + 1) % n\n",
    "                    P[i, j] = 1\n",
    "                    P[j, i] = 1\n",
    "            \n",
    "            Ws[k, :n, :n] = 0.5 * np.eye(n) + 0.5 * P\n",
    "            Ws[k, :n, n:] = 0\n",
    "            Ws[k, n:, :n] = (n_ex + 1) * P / (2 * n_ex + 1)\n",
    "            Ws[k, n:, n:] = n_ex * np.eye(n) / (2 * n_ex + 1)\n",
    "            Wgs[k, :n, :n] = 0.5 * np.eye(n) + 0.5 * P\n",
    "            Wgs[k, :n, n:] = 0\n",
    "            Wgs[k, n:, :n] = (n_ex + 1) * P / (2 * n_ex + 1) + n_ex * np.eye(n) / (2 * n_ex + 1)\n",
    "            Wgs[k, n:, n:] = 0\n",
    "        \n",
    "        if d == 0:\n",
    "            for j in range(n):\n",
    "                if j % 2 == 1:\n",
    "                    i = (j + 2 * n_ex + 1) % n\n",
    "                    P[i, j] = 1\n",
    "                    P[j, i] = 1\n",
    "            \n",
    "            Ws[k, :n, :n] = (n_ex + 1) * np.eye(n) / (2 * n_ex + 1)\n",
    "            Ws[k, :n, n:] = n_ex * P / (2 * n_ex + 1)\n",
    "            Ws[k, n:, :n] = 0\n",
    "            Ws[k, n:, n:] = 0.5 * np.eye(n) + 0.5 * P\n",
    "            Wgs[k, :n, :n] = 0\n",
    "            Wgs[k, :n, n:] = (n_ex + 1) * np.eye(n) / (2 * n_ex + 1) + n_ex * P / (2 * n_ex + 1)\n",
    "            Wgs[k, n:, :n] = 0\n",
    "            Wgs[k, n:, n:] =  0.5 * np.eye(n) + 0.5 * P\n",
    "        n_ex = 2 * n_ex + d\n",
    "    return Ws, Wgs"
   ]
  },
  {
   "attachments": {},
   "cell_type": "markdown",
   "metadata": {},
   "source": [
    "### Problem"
   ]
  },
  {
   "attachments": {},
   "cell_type": "markdown",
   "metadata": {},
   "source": [
    "Assume the network size is $n$. At each agent/node $i$, the distributed least square problems are defined by\n",
    "$$f_i(x):=||A_i x - b_i||^2,$$\n",
    "where $x\\in\\mathbb{R}^d$ and $A_i\\in \\mathbb{K\\times d}$. The parameter $K$ is the local data size. In this experiment, we generate elements in $A_i$ from a standard normal distribution. For given $x$, the label $b_i$ is generated by $b_i = A_i x + s_i$, where $s_i\\sim \\mathcal{N}(0, \\sigma_s^2 I)$ is a white noise."
   ]
  },
  {
   "cell_type": "code",
   "execution_count": 6,
   "metadata": {
    "ExecuteTime": {
     "end_time": "2023-03-17T03:48:15.584991Z",
     "start_time": "2023-03-17T03:48:15.579295Z"
    }
   },
   "outputs": [],
   "source": [
    "# Gradient utility\n",
    "def ls_full_grad_dist(X, y, W):\n",
    "    \n",
    "    n, m = X.shape\n",
    "    Q = W.shape[0]\n",
    "    N_agent = n//Q    \n",
    "    \n",
    "    G = np.zeros((Q, m))\n",
    "    \n",
    "    for k in range(Q):\n",
    "        \n",
    "        wk = W[k,:].reshape(m, 1)        \n",
    "        Xk = X[k*N_agent:(k+1)*N_agent, :]\n",
    "        yk = y[k*N_agent:(k+1)*N_agent].reshape(N_agent, 1)\n",
    "\n",
    "        grad = Xk.T@(Xk@wk-yk)\n",
    "        G[k,:] = grad.T\n",
    "    \n",
    "    return G"
   ]
  },
  {
   "cell_type": "code",
   "execution_count": 7,
   "metadata": {
    "ExecuteTime": {
     "end_time": "2023-03-17T03:48:15.768595Z",
     "start_time": "2023-03-17T03:48:15.764856Z"
    }
   },
   "outputs": [],
   "source": [
    "# Data generation utility\n",
    "# Sigma_n is set to be 0.1.\n",
    "# N = K * n \n",
    "def genLS(N, d):\n",
    "\n",
    "    A = np.random.randn(N, d)\n",
    "    b = A @ np.random.randn(d, 1) + 0.1 * np.random.randn(N, 1)\n",
    "    return A, b"
   ]
  },
  {
   "cell_type": "code",
   "execution_count": 8,
   "metadata": {
    "ExecuteTime": {
     "end_time": "2023-03-17T03:48:15.992386Z",
     "start_time": "2023-03-17T03:48:15.988884Z"
    }
   },
   "outputs": [],
   "source": [
    "# Solution utility\n",
    "def solLS(A, b):\n",
    "    x_sol = np.linalg.inv(A.T@A)@(A.T@b)\n",
    "    print(A.T@(A@x_sol-b))\n",
    "    return x_sol"
   ]
  },
  {
   "attachments": {},
   "cell_type": "markdown",
   "metadata": {},
   "source": [
    "Here, we use decentralized SGD to solve this problem by generating a stochastic gradient via\n",
    "$$\\widehat{\\nabla f_i}(x) = \\nabla f_i(x) + n_i,$$\n",
    "where $n_i\\sim \\mathcal{N}(0, \\sigma_n^2 I)$ is a white gradient noise."
   ]
  },
  {
   "cell_type": "code",
   "execution_count": 9,
   "metadata": {
    "ExecuteTime": {
     "end_time": "2023-03-17T03:48:17.012182Z",
     "start_time": "2023-03-17T03:48:17.001616Z"
    }
   },
   "outputs": [],
   "source": [
    "# DSGD -- traning utility \n",
    "def train_opt(n, d, X_sol, A, b, Ws, Wgs, noise_mag, maxite, mu_init, exp_repeat, mu_decay=1, mu_min=0, period=10000):\n",
    "    DSGD_loss_record_ave = np.zeros((maxite+1, 1))\n",
    "\n",
    "    for e in tqdm(range(exp_repeat)):\n",
    "\n",
    "        DSGD_loss_record = np.zeros((maxite+1, 1))\n",
    "\n",
    "        tau = int(math.ceil(math.log(n, 2.0))) \n",
    "        bi = bin(n - 1)\n",
    "        X = np.zeros((n, d))\n",
    "        # X = np.random.normal(0, 0.1, (n, d))\n",
    "        X_bar = np.copy(X)\n",
    "        Y = np.zeros((2*n, d))\n",
    "        Y[:n] = np.copy(X)\n",
    "        Y[n:] = np.copy(X_bar)\n",
    "        mu = mu_init\n",
    "        DSGD_loss_record[0] = np.linalg.norm(X_sol,'fro')/np.linalg.norm(X_sol,'fro')\n",
    "        for ite in range(maxite):\n",
    "\n",
    "            if (ite+1)%period == 0:\n",
    "                mu = mu/mu_decay\n",
    "                mu = max(mu, mu_min)\n",
    "\n",
    "            t = ite % tau\n",
    "            W = Ws[t]\n",
    "            Wg = Wgs[t]\n",
    "            dig = int(bi[2 + t])\n",
    "            G = np.zeros((2*n, d))\n",
    "            if dig == 1:\n",
    "                G[:n] = ls_full_grad_dist(A, b, X)\n",
    "                #print(G[:n])\n",
    "            else:\n",
    "                G[n:] =  ls_full_grad_dist(A, b, X_bar)\n",
    "               \n",
    "            V = np.random.randn(2*n, d)  # Gaussian noise\n",
    "\n",
    "            Y = W @ Y - mu * Wg @ (G + noise_mag*V)\n",
    "            X = np.copy(Y[:n])\n",
    "           \n",
    "            X_bar = np.copy(Y[n:])\n",
    "\n",
    "            # record loss\n",
    "            DSGD_loss_record[ite+1] = np.linalg.norm(X-X_sol,'fro')/np.linalg.norm(X_sol,'fro')\n",
    "            \n",
    "        DSGD_loss_record_ave += DSGD_loss_record\n",
    "           \n",
    "    DSGD_loss_record_ave = DSGD_loss_record_ave/exp_repeat\n",
    "    return DSGD_loss_record_ave \n"
   ]
  },
  {
   "cell_type": "code",
   "execution_count": 10,
   "metadata": {
    "ExecuteTime": {
     "end_time": "2023-03-17T03:48:17.721791Z",
     "start_time": "2023-03-17T03:48:17.711850Z"
    }
   },
   "outputs": [],
   "source": [
    "# DSGD -- traning utility \n",
    "def train_dynamic(n, d, X_sol, A, b, Ws, noise_mag, maxite, mu_init, exp_repeat, mu_decay=1, mu_min=0, period=10000, seed=0, eta=1, method=None, Ms=None):\n",
    "    DSGD_loss_record_ave = np.zeros((maxite+1, 1))\n",
    "\n",
    "    for e in tqdm(range(exp_repeat)):\n",
    "\n",
    "        DSGD_loss_record = np.zeros((maxite+1, 1))\n",
    "\n",
    "        X = np.zeros((n, d))\n",
    "        # X = np.random.normal(0, 0.1, (n, d))\n",
    "\n",
    "        mu = mu_init\n",
    "        rng = np.random.default_rng(seed)\n",
    "        DSGD_loss_record[0] = np.linalg.norm(X_sol,'fro')/np.linalg.norm(X_sol,'fro')\n",
    "        for ite in range(maxite):\n",
    "\n",
    "            if (ite+1)%period == 0:\n",
    "                mu = mu/mu_decay\n",
    "                mu = max(mu, mu_min)\n",
    "            if method == 'ExpGraph':\n",
    "                W = Ws[int(ite % len(Ws))]\n",
    "            elif method == 'ODEquiDynComplete':\n",
    "                \n",
    "                W = ODEquiDyn(n, Ms, eta, rng)\n",
    "            elif method == 'OUEquiDynComplete':\n",
    "                W = OUEquiDyn(n, Ms, eta, rng)\n",
    "\n",
    "            G = ls_full_grad_dist(A, b, X)\n",
    "            #print(G)\n",
    "            V = np.random.randn(n, d)  # Gaussian noise\n",
    "            X = W @ (X - mu * (G + noise_mag*V))\n",
    "            \n",
    "\n",
    "\n",
    "            # record loss\n",
    "            DSGD_loss_record[ite+1] = np.linalg.norm(X-X_sol,'fro')/np.linalg.norm(X_sol,'fro')\n",
    "            \n",
    "        DSGD_loss_record_ave += DSGD_loss_record\n",
    "           \n",
    "    DSGD_loss_record_ave = DSGD_loss_record_ave/exp_repeat\n",
    "    return DSGD_loss_record_ave \n"
   ]
  },
  {
   "cell_type": "code",
   "execution_count": 11,
   "metadata": {
    "ExecuteTime": {
     "end_time": "2023-03-17T03:48:18.285873Z",
     "start_time": "2023-03-17T03:48:18.275892Z"
    }
   },
   "outputs": [],
   "source": [
    "# DSGD -- traning utility \n",
    "def train_static(n, d, X_sol, A, b, W, noise_mag, maxite, mu_init, exp_repeat, mu_decay=1, mu_min=0, period=10000):\n",
    "    DSGD_loss_record_ave = np.zeros((maxite+1, 1))\n",
    "\n",
    "    for e in tqdm(range(exp_repeat)):\n",
    "\n",
    "        DSGD_loss_record = np.zeros((maxite+1, 1))\n",
    "\n",
    "        X =  np.zeros((n, d))\n",
    "        # X = np.random.normal(0, 0.1, (n, d))\n",
    "        mu = mu_init\n",
    "        DSGD_loss_record[0] = np.linalg.norm(X_sol,'fro')/np.linalg.norm(X_sol,'fro')\n",
    "        for ite in range(maxite):\n",
    "\n",
    "            if (ite+1)%period == 0:\n",
    "                mu = mu/mu_decay\n",
    "                mu = max(mu, mu_min)\n",
    "\n",
    "            G = ls_full_grad_dist(A, b, X)\n",
    "            V = np.random.randn(n, d)  # Gaussian noise\n",
    "            X = W @ (X - mu * (G + noise_mag*V))\n",
    "\n",
    "            # record loss\n",
    "            DSGD_loss_record[ite+1] = np.linalg.norm(X-X_sol,'fro')/np.linalg.norm(X_sol,'fro')\n",
    "            \n",
    "        DSGD_loss_record_ave += DSGD_loss_record\n",
    "           \n",
    "    DSGD_loss_record_ave = DSGD_loss_record_ave/exp_repeat\n",
    "    return DSGD_loss_record_ave \n"
   ]
  },
  {
   "attachments": {},
   "cell_type": "markdown",
   "metadata": {},
   "source": [
    "#### Parameters"
   ]
  },
  {
   "attachments": {},
   "cell_type": "markdown",
   "metadata": {},
   "source": [
    "#### Generating data"
   ]
  },
  {
   "cell_type": "code",
   "execution_count": 14,
   "metadata": {
    "ExecuteTime": {
     "end_time": "2023-03-17T03:53:41.429180Z",
     "start_time": "2023-03-17T03:53:41.418311Z"
    }
   },
   "outputs": [
    {
     "name": "stdout",
     "output_type": "stream",
     "text": [
      "[[ 2.76223489e-13]\n",
      " [-2.18050578e-12]\n",
      " [-3.81650267e-12]\n",
      " [-3.55564467e-11]\n",
      " [-4.79660756e-12]\n",
      " [-2.91700691e-12]\n",
      " [ 2.37454501e-12]\n",
      " [-3.55271368e-13]\n",
      " [ 1.56763491e-13]\n",
      " [-1.64490643e-12]]\n"
     ]
    }
   ],
   "source": [
    "A, b = genLS(N, d)\n",
    "x_sol = solLS(A, b)\n",
    "X_sol = np.ones((n,1))@x_sol.T"
   ]
  },
  {
   "cell_type": "code",
   "execution_count": 15,
   "metadata": {
    "ExecuteTime": {
     "end_time": "2023-03-17T03:59:57.416295Z",
     "start_time": "2023-03-17T03:59:57.411996Z"
    }
   },
   "outputs": [
    {
     "data": {
      "text/plain": [
       "array([[ 0.24438652],\n",
       "       [-0.27061837],\n",
       "       [ 0.41243505],\n",
       "       [-1.81640462],\n",
       "       [-0.12165685],\n",
       "       [-1.41844143],\n",
       "       [ 0.22396499],\n",
       "       [ 0.66165322],\n",
       "       [-0.09012013],\n",
       "       [ 0.33583139]])"
      ]
     },
     "execution_count": 15,
     "metadata": {},
     "output_type": "execute_result"
    }
   ],
   "source": [
    "x_sol"
   ]
  },
  {
   "cell_type": "code",
   "execution_count": 13,
   "metadata": {
    "ExecuteTime": {
     "end_time": "2023-03-17T04:38:54.245995Z",
     "start_time": "2023-03-17T04:38:54.242306Z"
    }
   },
   "outputs": [],
   "source": [
    "# network size\n",
    "n= 258\n",
    "# number of features\n",
    "d = 10\n",
    "# local data size is 50\n",
    "N = n * 50\n",
    "\n",
    "noise_mag = 5\n",
    "maxite = 1000\n",
    "# mu_init = 0.0245\n",
    "mu_init = 0.02\n",
    "exp_repeat = 5\n",
    "\n",
    "mu_decay=1.5\n",
    "mu_min=0\n",
    "period=20\n"
   ]
  },
  {
   "cell_type": "code",
   "execution_count": 16,
   "metadata": {
    "ExecuteTime": {
     "end_time": "2023-03-17T04:39:06.250108Z",
     "start_time": "2023-03-17T04:38:54.511519Z"
    }
   },
   "outputs": [
    {
     "name": "stdout",
     "output_type": "stream",
     "text": [
      "tau=9\n"
     ]
    },
    {
     "data": {
      "application/vnd.jupyter.widget-view+json": {
       "model_id": "8a488c69801b4d49a3c781bd32b0b14b",
       "version_major": 2,
       "version_minor": 0
      },
      "text/plain": [
       "  0%|          | 0/5 [00:00<?, ?it/s]"
      ]
     },
     "metadata": {},
     "output_type": "display_data"
    }
   ],
   "source": [
    "Ws, Wgs = OptTopos(n)\n",
    "loss = train_opt(n, d, X_sol, A, b, Ws, Wgs, noise_mag,\n",
    "                 maxite, mu_init, exp_repeat, mu_decay=mu_decay, mu_min=mu_min, period=period)"
   ]
  },
  {
   "cell_type": "code",
   "execution_count": 17,
   "metadata": {
    "ExecuteTime": {
     "end_time": "2023-03-17T04:39:18.401387Z",
     "start_time": "2023-03-17T04:39:06.252965Z"
    }
   },
   "outputs": [
    {
     "name": "stdout",
     "output_type": "stream",
     "text": [
      "tau=9\n"
     ]
    },
    {
     "data": {
      "application/vnd.jupyter.widget-view+json": {
       "model_id": "bb28cbc33e784272a4c02650baac216c",
       "version_major": 2,
       "version_minor": 0
      },
      "text/plain": [
       "  0%|          | 0/5 [00:00<?, ?it/s]"
      ]
     },
     "metadata": {},
     "output_type": "display_data"
    }
   ],
   "source": [
    "Ws, Wgs = OptToposOne(n)\n",
    "one_loss = train_opt(n, d, X_sol, A, b, Ws, Wgs, noise_mag,\n",
    "                     maxite, mu_init, exp_repeat, mu_decay=mu_decay, mu_min=mu_min, period=period)\n"
   ]
  },
  {
   "cell_type": "code",
   "execution_count": 18,
   "metadata": {
    "ExecuteTime": {
     "end_time": "2023-03-17T04:39:36.896269Z",
     "start_time": "2023-03-17T04:39:18.404221Z"
    }
   },
   "outputs": [
    {
     "data": {
      "application/vnd.jupyter.widget-view+json": {
       "model_id": "20b3fe0fd17543cab2a9362916f4a3ed",
       "version_major": 2,
       "version_minor": 0
      },
      "text/plain": [
       "  0%|          | 0/5 [00:00<?, ?it/s]"
      ]
     },
     "metadata": {},
     "output_type": "display_data"
    },
    {
     "data": {
      "application/vnd.jupyter.widget-view+json": {
       "model_id": "3e49fc53e5b845699dc800233186d397",
       "version_major": 2,
       "version_minor": 0
      },
      "text/plain": [
       "  0%|          | 0/5 [00:00<?, ?it/s]"
      ]
     },
     "metadata": {},
     "output_type": "display_data"
    }
   ],
   "source": [
    "loss_ring = train_static(n, d, X_sol, A, b, generate_cycle_network(n), noise_mag, \n",
    "                        maxite, mu_init, exp_repeat, mu_decay=mu_decay, mu_min=mu_min, period=period)\n",
    "# loss_ring = train_static(n, d, X_sol, A, b, generate_grid_network(n), noise_mag, \n",
    "#                         maxite, mu_init, exp_repeat, mu_decay=mu_decay, mu_min=mu_min, period=period)\n",
    "loss_cen = train_static(n, d, X_sol, A, b, np.ones((n, n)) / n, noise_mag, \n",
    "                        maxite, mu_init, exp_repeat, mu_decay=mu_decay, mu_min=mu_min, period=period)"
   ]
  },
  {
   "cell_type": "code",
   "execution_count": 19,
   "metadata": {
    "ExecuteTime": {
     "end_time": "2023-03-17T04:40:24.278867Z",
     "start_time": "2023-03-17T04:39:36.898519Z"
    }
   },
   "outputs": [
    {
     "data": {
      "application/vnd.jupyter.widget-view+json": {
       "model_id": "2965178902cc406287f715ab5e91f6ad",
       "version_major": 2,
       "version_minor": 0
      },
      "text/plain": [
       "  0%|          | 0/5 [00:00<?, ?it/s]"
      ]
     },
     "metadata": {},
     "output_type": "display_data"
    },
    {
     "data": {
      "application/vnd.jupyter.widget-view+json": {
       "model_id": "7e1194cea2ae401089e128bc8ca969d1",
       "version_major": 2,
       "version_minor": 0
      },
      "text/plain": [
       "  0%|          | 0/5 [00:00<?, ?it/s]"
      ]
     },
     "metadata": {},
     "output_type": "display_data"
    },
    {
     "data": {
      "application/vnd.jupyter.widget-view+json": {
       "model_id": "c92f493acb92411b9a2e4414e78cb48d",
       "version_major": 2,
       "version_minor": 0
      },
      "text/plain": [
       "  0%|          | 0/5 [00:00<?, ?it/s]"
      ]
     },
     "metadata": {},
     "output_type": "display_data"
    }
   ],
   "source": [
    "Ws = OnePeer_ExponentialGraph(n)\n",
    "loss_onexp = train_dynamic(n, d, X_sol, A, b, Ws, noise_mag, maxite, \n",
    "                           mu_init, exp_repeat, mu_decay=mu_decay, mu_min=mu_min, period=period, method='ExpGraph')\n",
    "M = math.log2(n) \n",
    "M = int(M) - 1\n",
    "A_undi, Ms1 = UEquiStatic(n, seed=0, M=M)\n",
    "A_di, Ms2 = DEquiStatic(n, seed=0, M=M)\n",
    "loss_OU = train_dynamic(n, d, X_sol, A, b, Ws, noise_mag, maxite, \n",
    "                        mu_init, exp_repeat, mu_decay=mu_decay, mu_min=mu_min, \n",
    "                        period=period, method='OUEquiDynComplete', Ms=Ms1)\n",
    "loss_OD = train_dynamic(n, d, X_sol, A, b, Ws, noise_mag, maxite, \n",
    "                        mu_init, exp_repeat, mu_decay=mu_decay, mu_min=mu_min, \n",
    "                        period=period, method='ODEquiDynComplete', Ms=Ms2)\n"
   ]
  },
  {
   "cell_type": "code",
   "execution_count": 20,
   "metadata": {
    "ExecuteTime": {
     "end_time": "2023-03-17T04:43:19.596106Z",
     "start_time": "2023-03-17T04:43:18.838574Z"
    }
   },
   "outputs": [
    {
     "data": {
      "image/png": "[encoded data removed]",
      "text/plain": [
       "<Figure size 720x576 with 1 Axes>"
      ]
     },
     "metadata": {
      "needs_background": "light"
     },
     "output_type": "display_data"
    }
   ],
   "source": [
    "# plot the results\n",
    "plt.rcParams['figure.figsize'] = 10, 8\n",
    "plt.figure()\n",
    "xlen = maxite + 1\n",
    "ms = 17\n",
    "plt.semilogy(0, loss_OU[0], color='red', marker='^', markersize = ms)\n",
    "plt.semilogy(0, loss_OD[0], color='blue', marker='o', markersize = ms)\n",
    "plt.semilogy(0, loss_onexp[0], color='purple', marker='*', markersize = ms)\n",
    "plt.semilogy(0, loss[0], color='orange', marker='<', markersize = ms)\n",
    "plt.semilogy(0, one_loss[0], color='green', marker='>', markersize = ms)\n",
    "plt.semilogy(0, loss_cen[0], color='black', marker='v', markersize = ms)\n",
    "plt.semilogy(0, loss_cen[0], color='olive', marker='s', markersize = ms)\n",
    "\n",
    "\n",
    "idx_set = np.arange(0, xlen, xlen//10)\n",
    "plt.semilogy(idx_set, loss_OU[idx_set], color='red', marker='^', markersize = ms, linestyle = 'None')\n",
    "plt.semilogy(idx_set, loss_OD[idx_set], color='blue', marker='o', markersize = ms, linestyle = 'None')\n",
    "plt.semilogy(idx_set, loss_onexp[idx_set], color='purple', marker='*', markersize = ms, linestyle = 'None')\n",
    "plt.semilogy(idx_set, loss[idx_set], color='orange', marker='<', markersize = ms, linestyle = 'None')\n",
    "plt.semilogy(idx_set, one_loss[idx_set], color='green', marker='>', markersize = ms, linestyle = 'None')\n",
    "plt.semilogy(idx_set, loss_cen[idx_set], color='black', marker='v', markersize = ms, linestyle = 'None')\n",
    "plt.semilogy(idx_set, loss_ring[idx_set], color='olive', marker='s', markersize = ms, linestyle = 'None')\n",
    "\n",
    "plt.semilogy(np.arange(xlen), loss_OU, linewidth=1.5, color='red')\n",
    "plt.semilogy(np.arange(xlen), loss_OD, linewidth=1.5, color='blue')\n",
    "plt.semilogy(np.arange(xlen), loss_onexp, linewidth=1.5, color='purple')\n",
    "plt.semilogy(np.arange(xlen), loss, linewidth=1.5, color='orange')\n",
    "plt.semilogy(np.arange(xlen), one_loss, linewidth=1.5, color='green')\n",
    "plt.semilogy(np.arange(xlen), loss_cen, linewidth=1.5, color='black')\n",
    "plt.semilogy(np.arange(xlen), loss_ring, linewidth=1.5, color='olive')\n",
    "\n",
    "\n",
    "plt.legend(['OU-EquiDyn', 'OD-EquiDyn', 'O.-P. Exp', 'DSGD-CECA-2P', 'DSGD-CECA-1P', 'Centralized SGD', 'Ring SGD' ], fontsize=20)\n",
    "plt.xlabel('Iteration', fontsize = 20)\n",
    "plt.ylabel(r'$||x^{(k)} - x^\\star||$', fontsize = 20)\n",
    "plt.grid(True)\n",
    "plt.xticks(fontsize=20)\n",
    "plt.yticks(fontsize=20)\n",
    "plt.savefig(\"test.pdf\", dpi=180, bbox_inches ='tight')"
   ]
  },
  {
   "cell_type": "code",
   "execution_count": null,
   "metadata": {},
   "outputs": [],
   "source": []
  },
  {
   "cell_type": "code",
   "execution_count": null,
   "metadata": {},
   "outputs": [],
   "source": []
  }
 ],
 "metadata": {
  "kernelspec": {
   "display_name": "Python 3",
   "language": "python",
   "name": "python3"
  },
  "language_info": {
   "codemirror_mode": {
    "name": "ipython",
    "version": 3
   },
   "file_extension": ".py",
   "mimetype": "text/x-python",
   "name": "python",
   "nbconvert_exporter": "python",
   "pygments_lexer": "ipython3",
   "version": "3.9.12"
  },
  "vscode": {
   "interpreter": {
    "hash": "6b059e5c3f103edceadc828bac30960f221c028e462f285539246ad22b60c91a"
   }
  }
 },
 "nbformat": 4,
 "nbformat_minor": 5
}
