{
 "cells": [
  {
   "cell_type": "markdown",
   "id": "56caa79f",
   "metadata": {},
   "source": [
    "This code is partially adapted from https://arxiv.org/abs/2210.07881"
   ]
  },
  {
   "cell_type": "code",
   "execution_count": 746,
   "id": "78cea23e",
   "metadata": {},
   "outputs": [],
   "source": [
    "import numpy as np\n",
    "import matplotlib.pyplot as plt\n",
    "import math\n",
    "\n",
    "from topology_util import *\n",
    "from EquiTopo import *\n",
    "\n",
    "np.random.seed(123)"
   ]
  },
  {
   "cell_type": "code",
   "execution_count": 747,
   "id": "608ac8aa",
   "metadata": {},
   "outputs": [],
   "source": [
    "# CECA-2P\n",
    "def OptTopos(n):\n",
    "    tau = int(math.ceil(math.log(n, 2.0))) \n",
    "    print(tau)\n",
    "    bi = bin(n - 1)\n",
    "    n_ex = 0\n",
    "    Ws = np.zeros((tau, 2 * n, 2 * n))\n",
    "    Wgs = np.zeros((tau, 2 * n, 2 * n))\n",
    "    for k in range(tau):\n",
    "        d = int(bi[2 + k])\n",
    "        P = np.zeros((n, n))\n",
    "        if d == 1:\n",
    "            for j in range(n):\n",
    "                i = (j + n_ex + 1) % n\n",
    "                P[i, j] = 1\n",
    "            \n",
    "            Ws[k, :n, :n] = 0.5 * np.eye(n) + 0.5 * P\n",
    "            Ws[k, :n, n:] = 0\n",
    "            Ws[k, n:, :n] = (n_ex + 1) * P / (2 * n_ex + 1)\n",
    "            Ws[k, n:, n:] = n_ex * np.eye(n) / (2 * n_ex + 1)\n",
    "            Wgs[k, :n, :n] = 0.5 * np.eye(n) + 0.5 * P\n",
    "            Wgs[k, :n, n:] = 0\n",
    "            Wgs[k, n:, :n] = (n_ex + 1) * P / (2 * n_ex + 1) + n_ex * np.eye(n) / (2 * n_ex + 1)\n",
    "            Wgs[k, n:, n:] = 0\n",
    "        \n",
    "        if d == 0:\n",
    "            for j in range(n):\n",
    "                i = (j + n_ex) % n\n",
    "                P[i, j] = 1\n",
    "            \n",
    "            Ws[k, :n, :n] = (n_ex + 1) * np.eye(n) / (2 * n_ex + 1)\n",
    "            Ws[k, :n, n:] = n_ex * P / (2 * n_ex + 1)\n",
    "            Ws[k, n:, :n] = 0\n",
    "            Ws[k, n:, n:] = 0.5 * np.eye(n) + 0.5 * P\n",
    "            Wgs[k, :n, :n] = 0\n",
    "            Wgs[k, :n, n:] = (n_ex + 1) * np.eye(n) / (2 * n_ex + 1) + n_ex * P / (2 * n_ex + 1)\n",
    "            Wgs[k, n:, :n] = 0\n",
    "            Wgs[k, n:, n:] =  0.5 * np.eye(n) + 0.5 * P\n",
    "        n_ex = 2 * n_ex + d\n",
    "    return Ws, Wgs"
   ]
  },
  {
   "cell_type": "code",
   "execution_count": 748,
   "id": "19c4e7a0",
   "metadata": {},
   "outputs": [],
   "source": [
    "# CECA-1P\n",
    "def OptToposOne(n):\n",
    "    tau = int(math.ceil(math.log(n, 2.0))) \n",
    "    print(tau)\n",
    "    bi = bin(n - 1)\n",
    "    n_ex = 0\n",
    "    Ws = np.zeros((tau, 2 * n, 2 * n))\n",
    "    Wgs = np.zeros((tau, 2 * n, 2 * n))\n",
    "    for k in range(tau):\n",
    "        d = int(bi[2 + k])\n",
    "        P = np.zeros((n, n))\n",
    "        if d == 1:\n",
    "            for j in range(n):\n",
    "                if j % 2 == 1:\n",
    "                    i = (j + 2 * n_ex + 1) % n\n",
    "                    P[i, j] = 1\n",
    "                    P[j, i] = 1\n",
    "            \n",
    "            Ws[k, :n, :n] = 0.5 * np.eye(n) + 0.5 * P\n",
    "            Ws[k, :n, n:] = 0\n",
    "            Ws[k, n:, :n] = (n_ex + 1) * P / (2 * n_ex + 1)\n",
    "            Ws[k, n:, n:] = n_ex * np.eye(n) / (2 * n_ex + 1)\n",
    "            Wgs[k, :n, :n] = 0.5 * np.eye(n) + 0.5 * P\n",
    "            Wgs[k, :n, n:] = 0\n",
    "            Wgs[k, n:, :n] = (n_ex + 1) * P / (2 * n_ex + 1) + n_ex * np.eye(n) / (2 * n_ex + 1)\n",
    "            Wgs[k, n:, n:] = 0\n",
    "        \n",
    "        if d == 0:\n",
    "            for j in range(n):\n",
    "                if j % 2 == 1:\n",
    "                    i = (j + 2 * n_ex + 1) % n\n",
    "                    P[i, j] = 1\n",
    "                    P[j, i] = 1\n",
    "            \n",
    "            Ws[k, :n, :n] = (n_ex + 1) * np.eye(n) / (2 * n_ex + 1)\n",
    "            Ws[k, :n, n:] = n_ex * P / (2 * n_ex + 1)\n",
    "            Ws[k, n:, :n] = 0\n",
    "            Ws[k, n:, n:] = 0.5 * np.eye(n) + 0.5 * P\n",
    "            Wgs[k, :n, :n] = 0\n",
    "            Wgs[k, :n, n:] = (n_ex + 1) * np.eye(n) / (2 * n_ex + 1) + n_ex * P / (2 * n_ex + 1)\n",
    "            Wgs[k, n:, :n] = 0\n",
    "            Wgs[k, n:, n:] =  0.5 * np.eye(n) + 0.5 * P\n",
    "        n_ex = 2 * n_ex + d\n",
    "    return Ws, Wgs"
   ]
  },
  {
   "cell_type": "markdown",
   "id": "d9597e94",
   "metadata": {},
   "source": [
    "### Problem"
   ]
  },
  {
   "cell_type": "markdown",
   "id": "25484503",
   "metadata": {},
   "source": [
    "Assume the network size is $n$. At each agent/node $i$, the distributed least square problems are defined by\n",
    "$$f_i(x):=||A_i x - b_i||^2,$$\n",
    "where $x\\in\\mathbb{R}^d$ and $A_i\\in \\mathbb{K\\times d}$. The parameter $K$ is the local data size. In this experiment, we generate elements in $A_i$ from a standard normal distribution. For given $x$, the label $b_i$ is generated by $b_i = A_i x + s_i$, where $s_i\\sim \\mathcal{N}(0, \\sigma_s^2 I)$ is a white noise."
   ]
  },
  {
   "cell_type": "code",
   "execution_count": 148,
   "id": "3fbeb39d",
   "metadata": {},
   "outputs": [],
   "source": [
    "# Gradient utility\n",
    "def ls_full_grad_dist(X, y, W):\n",
    "    \n",
    "    n, m = X.shape\n",
    "    Q = W.shape[0]\n",
    "    N_agent = n//Q    \n",
    "    \n",
    "    G = np.zeros((Q, m))\n",
    "    \n",
    "    for k in range(Q):\n",
    "        \n",
    "        wk = W[k,:].reshape(m, 1)        \n",
    "        Xk = X[k*N_agent:(k+1)*N_agent, :]\n",
    "        yk = y[k*N_agent:(k+1)*N_agent].reshape(N_agent, 1)\n",
    "\n",
    "        grad = Xk.T@(Xk@wk-yk)\n",
    "        G[k,:] = grad.T\n",
    "    \n",
    "    return G"
   ]
  },
  {
   "cell_type": "code",
   "execution_count": 532,
   "id": "85712e8d",
   "metadata": {},
   "outputs": [],
   "source": [
    "# Data generation utility\n",
    "# Sigma_n is set to be 0.1.\n",
    "# N = K * n \n",
    "def genLS(N, d):\n",
    "\n",
    "    A = np.random.randn(N, d)\n",
    "    b = A @ np.random.randn(d, 1) + 0.1 * np.random.randn(N, 1)\n",
    "    return A, b"
   ]
  },
  {
   "cell_type": "code",
   "execution_count": 150,
   "id": "e20386f1",
   "metadata": {},
   "outputs": [],
   "source": [
    "# Solution utility\n",
    "def solLS(A, b):\n",
    "    x_sol = np.linalg.inv(A.T@A)@(A.T@b)\n",
    "    print(A.T@(A@x_sol-b))\n",
    "    return x_sol"
   ]
  },
  {
   "cell_type": "markdown",
   "id": "7e72f7b4",
   "metadata": {},
   "source": [
    "Here, we use decentralized SGD to solve this problem by generating a stochastic gradient via\n",
    "$$\\widehat{\\nabla f_i}(x) = \\nabla f_i(x) + n_i,$$\n",
    "where $n_i\\sim \\mathcal{N}(0, \\sigma_n^2 I)$ is a white gradient noise."
   ]
  },
  {
   "cell_type": "code",
   "execution_count": 556,
   "id": "965becb7",
   "metadata": {},
   "outputs": [],
   "source": [
    "# DSGD -- traning utility \n",
    "def train_opt(n, d, X_sol, A, b, Ws, Wgs, noise_mag, maxite, mu_init, exp_repeat, mu_decay=0, mu_min=0, period=10000):\n",
    "    DSGD_loss_record_ave = np.zeros((maxite, 1))\n",
    "\n",
    "    for e in range(exp_repeat):\n",
    "\n",
    "        DSGD_loss_record = np.zeros((maxite, 1))\n",
    "\n",
    "        print(\"DSGD Repeat:\", e)\n",
    "        tau = int(math.ceil(math.log(n, 2.0))) \n",
    "        bi = bin(n - 1)\n",
    "        X = np.zeros((n, d))\n",
    "        # X = np.random.normal(0, 0.1, (n, d))\n",
    "        X_bar = np.copy(X)\n",
    "        Y = np.zeros((2*n, d))\n",
    "        Y[:n] = np.copy(X)\n",
    "        Y[n:] = np.copy(X_bar)\n",
    "        mu = mu_init\n",
    "        \n",
    "        for ite in range(maxite):\n",
    "\n",
    "            if (ite+1)%period == 0:\n",
    "                #mu = mu/mu_decay\n",
    "                #mu = max(mu, mu_min)\n",
    "                print ('DSGD iteration:', ite)\n",
    "\n",
    "            t = ite % tau\n",
    "            W = Ws[t]\n",
    "            Wg = Wgs[t]\n",
    "            dig = int(bi[2 + t])\n",
    "            G = np.zeros((2*n, d))\n",
    "            if dig == 1:\n",
    "                G[:n] = ls_full_grad_dist(A, b, X)\n",
    "                #print(G[:n])\n",
    "            else:\n",
    "                G[n:] =  ls_full_grad_dist(A, b, X_bar)\n",
    "               \n",
    "            V = np.random.randn(2*n, d)  # Gaussian noise\n",
    "\n",
    "            Y = W @ Y - mu * Wg @ (G + noise_mag*V)\n",
    "            X = np.copy(Y[:n])\n",
    "           \n",
    "            X_bar = np.copy(Y[n:])\n",
    "\n",
    "            # record loss\n",
    "            DSGD_loss_record[ite] = np.linalg.norm(X-X_sol,'fro')/np.linalg.norm(X_sol,'fro')\n",
    "            \n",
    "        DSGD_loss_record_ave += DSGD_loss_record\n",
    "           \n",
    "    DSGD_loss_record_ave = DSGD_loss_record_ave/exp_repeat\n",
    "    return DSGD_loss_record_ave \n"
   ]
  },
  {
   "cell_type": "code",
   "execution_count": 638,
   "id": "355e7860",
   "metadata": {},
   "outputs": [],
   "source": [
    "# DSGD -- traning utility \n",
    "def train_dynamic(n, d, X_sol, A, b, Ws, noise_mag, maxite, mu_init, exp_repeat, mu_decay=0, mu_min=0, period=10000, seed=0, eta=1, method=None, Ms=None):\n",
    "    DSGD_loss_record_ave = np.zeros((maxite, 1))\n",
    "\n",
    "    for e in range(exp_repeat):\n",
    "\n",
    "        DSGD_loss_record = np.zeros((maxite, 1))\n",
    "\n",
    "        print(\"DSGD Repeat:\", e)\n",
    "        X = np.zeros((n, d))\n",
    "        # X = np.random.normal(0, 0.1, (n, d))\n",
    "\n",
    "        mu = mu_init\n",
    "        rng = np.random.default_rng(seed)\n",
    "        for ite in range(maxite):\n",
    "\n",
    "            if (ite+1)%period == 0:\n",
    "                #mu = mu/mu_decay\n",
    "                #mu = max(mu, mu_min)\n",
    "                print ('DSGD iteration:', ite)\n",
    "            if method == 'ExpGraph':\n",
    "                W = Ws[int(ite % len(Ws))]\n",
    "            elif method == 'ODEquiDynComplete':\n",
    "                \n",
    "                W = ODEquiDyn(n, Ms, eta, rng)\n",
    "            elif method == 'OUEquiDynComplete':\n",
    "                W = OUEquiDyn(n, Ms, eta, rng)\n",
    "\n",
    "            G = ls_full_grad_dist(A, b, X)\n",
    "            #print(G)\n",
    "            V = np.random.randn(n, d)  # Gaussian noise\n",
    "            X = W @ (X - mu * (G + noise_mag*V))\n",
    "            \n",
    "\n",
    "\n",
    "            # record loss\n",
    "            DSGD_loss_record[ite] = np.linalg.norm(X-X_sol,'fro')/np.linalg.norm(X_sol,'fro')\n",
    "            \n",
    "        DSGD_loss_record_ave += DSGD_loss_record\n",
    "           \n",
    "    DSGD_loss_record_ave = DSGD_loss_record_ave/exp_repeat\n",
    "    return DSGD_loss_record_ave \n"
   ]
  },
  {
   "cell_type": "code",
   "execution_count": 341,
   "id": "1bbe745e",
   "metadata": {},
   "outputs": [],
   "source": [
    "# DSGD -- traning utility \n",
    "def train_static(n, d, X_sol, A, b, W, noise_mag, maxite, mu_init, exp_repeat, mu_decay=0, mu_min=0, period=10000):\n",
    "    DSGD_loss_record_ave = np.zeros((maxite, 1))\n",
    "\n",
    "    for e in range(exp_repeat):\n",
    "\n",
    "        DSGD_loss_record = np.zeros((maxite, 1))\n",
    "\n",
    "        print(\"DSGD Repeat:\", e)\n",
    "        X =  np.zeros((n, d))\n",
    "        # X = np.random.normal(0, 0.1, (n, d))\n",
    "        mu = mu_init\n",
    "        \n",
    "        for ite in range(maxite):\n",
    "\n",
    "            if (ite+1)%period == 0:\n",
    "                #mu = mu/mu_decay\n",
    "                #mu = max(mu, mu_min)\n",
    "                print ('DSGD iteration:', ite)\n",
    "\n",
    "            G = ls_full_grad_dist(A, b, X)\n",
    "            V = np.random.randn(n, d)  # Gaussian noise\n",
    "            X = W @ (X - mu * (G + noise_mag*V))\n",
    "\n",
    "            # record loss\n",
    "            DSGD_loss_record[ite] = np.linalg.norm(X-X_sol,'fro')/np.linalg.norm(X_sol,'fro')\n",
    "            \n",
    "        DSGD_loss_record_ave += DSGD_loss_record\n",
    "           \n",
    "    DSGD_loss_record_ave = DSGD_loss_record_ave/exp_repeat\n",
    "    return DSGD_loss_record_ave \n"
   ]
  },
  {
   "cell_type": "markdown",
   "id": "1fa4f0e9",
   "metadata": {},
   "source": [
    "#### Parameters"
   ]
  },
  {
   "cell_type": "code",
   "execution_count": 728,
   "id": "cf782168",
   "metadata": {},
   "outputs": [],
   "source": [
    "# network size\n",
    "n= 258\n",
    "# number of features\n",
    "d = 10\n",
    "# local data size is 50\n",
    "N = n * 50\n",
    "\n",
    "noise_mag = 5\n",
    "maxite = 50\n",
    "mu_init = 0.0245\n",
    "exp_repeat = 5\n"
   ]
  },
  {
   "cell_type": "markdown",
   "id": "e081b430",
   "metadata": {},
   "source": [
    "#### Generating data"
   ]
  },
  {
   "cell_type": "code",
   "execution_count": 739,
   "id": "5e264bf9",
   "metadata": {},
   "outputs": [
    {
     "name": "stdout",
     "output_type": "stream",
     "text": [
      "[[-1.06314957e-12]\n",
      " [-6.82565116e-13]\n",
      " [ 1.42241774e-12]\n",
      " [ 1.74971149e-13]\n",
      " [ 1.71596071e-11]\n",
      " [ 8.98336960e-13]\n",
      " [ 9.27080634e-12]\n",
      " [-7.20956628e-12]\n",
      " [-8.47766302e-13]\n",
      " [-9.53193080e-12]]\n"
     ]
    }
   ],
   "source": [
    "A, b = genLS(N, d)\n",
    "x_sol = solLS(A, b)\n",
    "X_sol = np.ones((n,1))@x_sol.T"
   ]
  },
  {
   "cell_type": "code",
   "execution_count": null,
   "id": "7391f2d8",
   "metadata": {},
   "outputs": [],
   "source": [
    "Ws, Wgs = OptTopos(n)\n",
    "loss = train_opt(n, d, X_sol, A, b, Ws, Wgs, noise_mag, maxite, mu_init, exp_repeat)"
   ]
  },
  {
   "cell_type": "code",
   "execution_count": null,
   "id": "276bc1ab",
   "metadata": {},
   "outputs": [],
   "source": [
    "Ws, Wgs = OptToposOne(n)\n",
    "one_loss = train_opt(n, d, X_sol, A, b, Ws, Wgs, noise_mag, maxite, mu_init, exp_repeat)\n"
   ]
  },
  {
   "cell_type": "code",
   "execution_count": null,
   "id": "6a8ee338",
   "metadata": {},
   "outputs": [],
   "source": [
    "Ws = OnePeer_ExponentialGraph(n)\n",
    "loss_onexp = train_dynamic(n, d, X_sol, A, b, Ws, noise_mag, maxite, 0.024, exp_repeat, method='ExpGraph')\n",
    "M = math.log2(n) \n",
    "M = int(M) - 1\n",
    "A_undi, Ms1 = UEquiStatic(n, seed=0, M=M)\n",
    "A_di, Ms2 = DEquiStatic(n, seed=0, M=M)\n",
    "loss_OU = train_dynamic(n, d, X_sol, A, b, Ws, noise_mag, maxite, mu_init, exp_repeat, method='OUEquiDynComplete', Ms=Ms1)\n",
    "loss_OD = train_dynamic(n, d, X_sol, A, b, Ws, noise_mag, maxite, mu_init, exp_repeat, method='ODEquiDynComplete', Ms=Ms2)\n"
   ]
  },
  {
   "cell_type": "code",
   "execution_count": 745,
   "id": "b81d25ea",
   "metadata": {},
   "outputs": [
    {
     "data": {
      "image/png": "[encoded data removed]",
      "text/plain": [
       "<Figure size 360x288 with 1 Axes>"
      ]
     },
     "metadata": {
      "needs_background": "light"
     },
     "output_type": "display_data"
    }
   ],
   "source": [
    "# plot the results\n",
    "plt.rcParams['figure.figsize'] = 5, 4\n",
    "plt.figure()\n",
    "xlen = maxite\n",
    "\n",
    "plt.semilogy(0, loss_OU[0], color='red', marker='^', markersize = 7)\n",
    "plt.semilogy(0, loss_OD[0], color='blue', marker='o', markersize = 7)\n",
    "plt.semilogy(0, loss_onexp[0], color='purple', marker='*', markersize = 7)\n",
    "plt.semilogy(0, loss[0], color='orange', marker='<', markersize = 7)\n",
    "plt.semilogy(0, one_loss[0], color='green', marker='>', markersize = 7)\n",
    "\n",
    "\n",
    "idx_set = np.arange(0, xlen, xlen//10)\n",
    "plt.semilogy(idx_set, loss_OU[idx_set], color='red', marker='^', markersize = 7, linestyle = 'None')\n",
    "plt.semilogy(idx_set, loss_OD[idx_set], color='blue', marker='o', markersize = 7, linestyle = 'None')\n",
    "plt.semilogy(idx_set, loss_onexp[idx_set], color='purple', marker='*', markersize = 7, linestyle = 'None')\n",
    "plt.semilogy(idx_set, loss[idx_set], color='orange', marker='<', markersize = 7, linestyle = 'None')\n",
    "plt.semilogy(idx_set, one_loss[idx_set], color='green', marker='>', markersize = 7, linestyle = 'None')\n",
    "\n",
    "plt.semilogy(np.arange(xlen), loss_OU, linewidth=1.0, color='red')\n",
    "plt.semilogy(np.arange(xlen), loss_OD, linewidth=1.0, color='blue')\n",
    "plt.semilogy(np.arange(xlen), loss_onexp, linewidth=1.0, color='purple')\n",
    "plt.semilogy(np.arange(xlen), loss, linewidth=1.0, color='orange')\n",
    "plt.semilogy(np.arange(xlen), one_loss, linewidth=1.0, color='green')\n",
    "\n",
    "\n",
    "plt.legend(['OU-EquiDyn', 'OD-EquiDyn', 'O.-P. Exp', 'DSGD-CECA-2P', 'DSGD-CECA-1P' ], fontsize=10)\n",
    "plt.xlabel('Iteration', fontsize = 12)\n",
    "plt.ylabel(r'$||x^{(t)} - x^\\star||$', fontsize = 12)\n",
    "plt.grid(True)\n",
    "\n",
    "plt.xticks(fontsize=10)\n",
    "plt.yticks(fontsize=10)\n",
    "plt.savefig(\"test.pdf\", dpi=180, bbox_inches ='tight')"
   ]
  }
 ],
 "metadata": {
  "kernelspec": {
   "display_name": "Python 3.9.12",
   "language": "python",
   "name": "python3"
  },
  "language_info": {
   "codemirror_mode": {
    "name": "ipython",
    "version": 3
   },
   "file_extension": ".py",
   "mimetype": "text/x-python",
   "name": "python",
   "nbconvert_exporter": "python",
   "pygments_lexer": "ipython3",
   "version": "3.9.12"
  },
  "vscode": {
   "interpreter": {
    "hash": "6b059e5c3f103edceadc828bac30960f221c028e462f285539246ad22b60c91a"
   }
  }
 },
 "nbformat": 4,
 "nbformat_minor": 5
}
